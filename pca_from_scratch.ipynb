{
  "nbformat": 4,
  "nbformat_minor": 0,
  "metadata": {
    "colab": {
      "name": "pca from scratch.ipynb",
      "provenance": [],
      "authorship_tag": "ABX9TyOnJJWui+LqJLVoslS/HeH8"
    },
    "kernelspec": {
      "name": "python3",
      "display_name": "Python 3"
    }
  },
  "cells": [
    {
      "cell_type": "code",
      "metadata": {
        "id": "0l6vNw0jk-y6"
      },
      "source": [
        "!wget http://factominer.free.fr/factomethods/datasets/decathlon.txt"
      ],
      "execution_count": null,
      "outputs": []
    },
    {
      "cell_type": "code",
      "metadata": {
        "id": "G8jQmsN3Zsh_"
      },
      "source": [
        "import pandas as pd\r\n",
        "\r\n",
        "# charger les données\r\n",
        "data = pd.read_csv('decathlon.txt', sep=\"\\t\")\r\n",
        "\r\n",
        "# éliminer les colonnes que nous n'utiliserons pas\r\n",
        "my_data = data.drop(['Points', 'Rank', 'Competition'], axis=1)\r\n",
        "\r\n",
        "# transformer les données en array numpy\r\n",
        "X = my_data.values\r\n"
      ],
      "execution_count": null,
      "outputs": []
    },
    {
      "cell_type": "code",
      "metadata": {
        "colab": {
          "base_uri": "https://localhost:8080/",
          "height": 204
        },
        "id": "b8Za1ZbjZutM",
        "outputId": "d0a79690-7bc5-4025-ec28-b3a9e0310a0c"
      },
      "source": [
        "my_data.head()"
      ],
      "execution_count": 54,
      "outputs": [
        {
          "output_type": "execute_result",
          "data": {
            "text/html": [
              "<div>\n",
              "<style scoped>\n",
              "    .dataframe tbody tr th:only-of-type {\n",
              "        vertical-align: middle;\n",
              "    }\n",
              "\n",
              "    .dataframe tbody tr th {\n",
              "        vertical-align: top;\n",
              "    }\n",
              "\n",
              "    .dataframe thead th {\n",
              "        text-align: right;\n",
              "    }\n",
              "</style>\n",
              "<table border=\"1\" class=\"dataframe\">\n",
              "  <thead>\n",
              "    <tr style=\"text-align: right;\">\n",
              "      <th></th>\n",
              "      <th>100m</th>\n",
              "      <th>Long.jump</th>\n",
              "      <th>Shot.put</th>\n",
              "      <th>High.jump</th>\n",
              "      <th>400m</th>\n",
              "      <th>110m.hurdle</th>\n",
              "      <th>Discus</th>\n",
              "      <th>Pole.vault</th>\n",
              "      <th>Javeline</th>\n",
              "      <th>1500m</th>\n",
              "    </tr>\n",
              "  </thead>\n",
              "  <tbody>\n",
              "    <tr>\n",
              "      <th>SEBRLE</th>\n",
              "      <td>11.04</td>\n",
              "      <td>7.58</td>\n",
              "      <td>14.83</td>\n",
              "      <td>2.07</td>\n",
              "      <td>49.81</td>\n",
              "      <td>14.69</td>\n",
              "      <td>43.75</td>\n",
              "      <td>5.02</td>\n",
              "      <td>63.19</td>\n",
              "      <td>291.7</td>\n",
              "    </tr>\n",
              "    <tr>\n",
              "      <th>CLAY</th>\n",
              "      <td>10.76</td>\n",
              "      <td>7.40</td>\n",
              "      <td>14.26</td>\n",
              "      <td>1.86</td>\n",
              "      <td>49.37</td>\n",
              "      <td>14.05</td>\n",
              "      <td>50.72</td>\n",
              "      <td>4.92</td>\n",
              "      <td>60.15</td>\n",
              "      <td>301.5</td>\n",
              "    </tr>\n",
              "    <tr>\n",
              "      <th>KARPOV</th>\n",
              "      <td>11.02</td>\n",
              "      <td>7.30</td>\n",
              "      <td>14.77</td>\n",
              "      <td>2.04</td>\n",
              "      <td>48.37</td>\n",
              "      <td>14.09</td>\n",
              "      <td>48.95</td>\n",
              "      <td>4.92</td>\n",
              "      <td>50.31</td>\n",
              "      <td>300.2</td>\n",
              "    </tr>\n",
              "    <tr>\n",
              "      <th>BERNARD</th>\n",
              "      <td>11.02</td>\n",
              "      <td>7.23</td>\n",
              "      <td>14.25</td>\n",
              "      <td>1.92</td>\n",
              "      <td>48.93</td>\n",
              "      <td>14.99</td>\n",
              "      <td>40.87</td>\n",
              "      <td>5.32</td>\n",
              "      <td>62.77</td>\n",
              "      <td>280.1</td>\n",
              "    </tr>\n",
              "    <tr>\n",
              "      <th>YURKOV</th>\n",
              "      <td>11.34</td>\n",
              "      <td>7.09</td>\n",
              "      <td>15.19</td>\n",
              "      <td>2.10</td>\n",
              "      <td>50.42</td>\n",
              "      <td>15.31</td>\n",
              "      <td>46.26</td>\n",
              "      <td>4.72</td>\n",
              "      <td>63.44</td>\n",
              "      <td>276.4</td>\n",
              "    </tr>\n",
              "  </tbody>\n",
              "</table>\n",
              "</div>"
            ],
            "text/plain": [
              "          100m  Long.jump  Shot.put  ...  Pole.vault  Javeline  1500m\n",
              "SEBRLE   11.04       7.58     14.83  ...        5.02     63.19  291.7\n",
              "CLAY     10.76       7.40     14.26  ...        4.92     60.15  301.5\n",
              "KARPOV   11.02       7.30     14.77  ...        4.92     50.31  300.2\n",
              "BERNARD  11.02       7.23     14.25  ...        5.32     62.77  280.1\n",
              "YURKOV   11.34       7.09     15.19  ...        4.72     63.44  276.4\n",
              "\n",
              "[5 rows x 10 columns]"
            ]
          },
          "metadata": {
            "tags": []
          },
          "execution_count": 54
        }
      ]
    },
    {
      "cell_type": "code",
      "metadata": {
        "id": "ikykndpokLn7"
      },
      "source": [
        "import numpy as np\r\n",
        "from sklearn.preprocessing import StandardScaler\r\n",
        "import matplotlib.pyplot as plt\r\n",
        "\r\n",
        "class pca :\r\n",
        "    def __init__(self,data):\r\n",
        "        self.data=data\r\n",
        "\r\n",
        "\r\n",
        "    def mean(self):\r\n",
        "        return [1/(self.data.shape[0])* sum(self.data[:,k]) for k in range(self.data.shape[1]) ]\r\n",
        "\r\n",
        "\r\n",
        "    def variance(self):\r\n",
        "        variance = []\r\n",
        "        for i in range(self.data.shape[1]):\r\n",
        "            somme=0\r\n",
        "            for j in range(self.data.shape[0]):\r\n",
        "               \r\n",
        "                somme=somme + (self.data[j][i]-self.mean()[i])**2\r\n",
        "            somme /= self.data.shape[0]   \r\n",
        "            variance.append(somme)\r\n",
        "        return variance\r\n",
        "\r\n",
        "    \r\n",
        "    def transform(self ):    \r\n",
        "        t=np.zeros((self.data.shape[0],self.data.shape[1]))    \r\n",
        "        for i in range(self.data.shape[0]):\r\n",
        "            for j in range(self.data.shape[1]):\r\n",
        "                t[i][j] = (self.data[i][j]-self.mean()[j]) /(self.variance()[j] **0.5)\r\n",
        "\r\n",
        "        return t\r\n",
        "\r\n",
        "    def axe_principale(self):\r\n",
        "        #La matrice des variances-covariances\r\n",
        "        v= np.dot(self.transform().transpose(),self.transform())\r\n",
        "\r\n",
        "        #valeurs propres\r\n",
        "        valeurs_propres = np.linalg.eig(v)[0]\r\n",
        "        vecteurs_propres = np.linalg.eig(v)[1]\r\n",
        "        return vecteurs_propres\r\n",
        "\r\n",
        "    def plot_(self  , columns):\r\n",
        "        \r\n",
        "        pcs = self.axe_principale()[: ,:]\r\n",
        "      \r\n",
        "        for i ,(x, y)  in enumerate(zip(pcs[:, 0], pcs[:, 1])):\r\n",
        "            \r\n",
        "            # Afficher un segment de l'origine au point (x, y)\r\n",
        "            plt.plot([0, x], [0, y], color='k')\r\n",
        "            # Afficher le nom (data.columns[i]) de la performance\r\n",
        "            plt.text(x, y, columns[i], fontsize='14')\r\n",
        "\r\n",
        "        plt.plot([-0.7, 0.7], [0, 0], color='grey', ls='--')\r\n",
        "\r\n",
        "        # Afficher une ligne verticale x=0\r\n",
        "        plt.plot([0, 0], [-0.7, 0.7], color='grey', ls='--')\r\n",
        "\r\n",
        "        plt.xlim([-0.7, 0.7])\r\n",
        "        plt.ylim([-0.7, 0.7])\r\n",
        "        plt.show()"
      ],
      "execution_count": 49,
      "outputs": []
    },
    {
      "cell_type": "code",
      "metadata": {
        "id": "Q1gnL0cNZwcT"
      },
      "source": [
        "reducteur = pca(X)\r\n"
      ],
      "execution_count": 50,
      "outputs": []
    },
    {
      "cell_type": "code",
      "metadata": {
        "id": "bqvoWcoMaRRY"
      },
      "source": [
        "columns= ['100m', 'Long.jump', 'Shot.put', 'High.jump', '400m', '110m.hurdle',\r\n",
        "       'Discus', 'Pole.vault', 'Javeline', '1500m', 'Rank', 'Points',\r\n",
        "       'Competition']"
      ],
      "execution_count": 51,
      "outputs": []
    },
    {
      "cell_type": "code",
      "metadata": {
        "colab": {
          "base_uri": "https://localhost:8080/",
          "height": 265
        },
        "id": "co1HzETjbWmB",
        "outputId": "e7a66f1a-7c73-42c2-90b2-30695ae40194"
      },
      "source": [
        "#X.shape\r\n",
        "reducteur.plot_( columns)"
      ],
      "execution_count": 52,
      "outputs": [
        {
          "output_type": "display_data",
          "data": {
            "image/png": "[encoded data removed]",
            "text/plain": [
              "<Figure size 432x288 with 1 Axes>"
            ]
          },
          "metadata": {
            "tags": [],
            "needs_background": "light"
          }
        }
      ]
    },
    {
      "cell_type": "code",
      "metadata": {
        "id": "GXBdLULqc7aq"
      },
      "source": [
        ""
      ],
      "execution_count": null,
      "outputs": []
    }
  ]
}